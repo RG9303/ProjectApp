{
 "cells": [
  {
   "cell_type": "markdown",
   "id": "0fa7400f",
   "metadata": {},
   "source": [
    "# Logistic Regression\n",
    "\n",
    "Let us assume that we have a Bernoulli variable $Y$ which has a probability $p$ of being equal to one and  probability $1-p$ of being zero. That said, we have that \n",
    "\n",
    "$$E(Y)=p$$\n",
    "$$\\text{var}(Y)=p(1-p).$$\n",
    "\n",
    "If we wanted to have a linear model of $p$ we would have that\n",
    "\n",
    "$$\n",
    "E(Y|x)=p=\\beta_0+\\beta_1x.\n",
    "$$\n",
    "\n",
    "However, this linear model is not bounded, whereas $0\\leq p\\leq1$. What can we do about it?\n",
    "\n",
    "A better strategy is to consider the **odds ratio**:\n",
    "\n",
    "$$\n",
    "\\text{odds}=\\frac{p}{1-p}.\n",
    "$$\n",
    "\n",
    "Notice that $\\text{odds}\\in[0,\\infty)$. This term can be understood as the proportion of the probability of $Y$ being equal to one over the probability of $Y=0$. For instance, if we have that $p=0.8$, $\\text{odds}=4$, that is, in average, four out of five times the variable $Y$ is equal to one, which is equivalent to saying one that out of five times we have that $Y=0$: a proportion of four to one. However, if we compute the odds of $1-p=0.2$, we get that $\\text{odds}=1/4$, so we don't have symmetry. In order to have \"symmetric odds\" we use the natural logarithm: $\\ln(1/4)=-\\ln(4)$. Given this, we say that the odds are linear with respecto to the predictor variable $x$:\n",
    "\n",
    "$$\n",
    "\\text{logit}(p(x))=\\ln\\left(\\frac{p(x)}{1-p(x)}\\right)=\\beta_0+\\beta_1x.\n",
    "$$\n",
    "\n",
    "In general, we will have more than one predictor variable, therefore\n",
    "\n",
    "$$\n",
    "\\text{logit}(p(x))=\\beta_0+\\beta_1x_1+\\beta_2x_2+\\cdots+\\beta_kx_k.\n",
    "$$\n",
    "\n",
    "This expression is known as the **logit model**.\n",
    "\n",
    "It is common to express $p(x)$ in terms of the predictor variables. After some algebra we get\n",
    "\n",
    "$$\n",
    "p(x)=\\frac{1}{1+e^{-(\\beta_0+\\beta_1x_1+\\cdots+\\beta_kx_k)}}.\n",
    "$$\n",
    "\n",
    "This expression is known as the **logistic curve**.\n",
    "\n",
    "<img src=\"logistic.png\" alt=\"Drawing\" style=\"width: 400px;\"/>\n",
    "\n",
    "This image was taken from __[here](https://en.wikipedia.org/wiki/Logistic_regression)__.\n",
    "\n",
    "Logistic regression is very useful in situations in which the dependant variable only takes two values. Let us assume we have collected $n$ observations of the predictor variables and the variable $y$:\n",
    "\n",
    "\n",
    "$$x_1=(x_{11},x_{12},\\dots,x_{1k})\\to y_1$$\n",
    "$$x_2=(x_{11},x_{12},\\dots,x_{2k})\\to y_2$$\n",
    "$$\\vdots$$\n",
    "$$x_n=(x_{n1},x_{n2},\\dots,x_{nk})\\to y_n$$\n",
    "\n",
    "Furthermore, \n",
    "\n",
    "$$\n",
    "P(Y_i=y_i)=p(x_i)^{y_i}(1-p(x_i))^{1-y_i}, ~y_i=0,1.\n",
    "$$\n",
    "\n",
    "To find the parameters of the model, $\\hat{\\beta}=[\\hat{\\beta}_0,\\hat{\\beta}_1,\\dots,\\hat{\\beta}_k]^T$, we maximize the **likelihood function**:\n",
    "\n",
    "$$\n",
    "L(\\beta)=\\Pi_{i=1}^n\\frac{e^{y_i(\\beta_0+\\beta_1x_{i1}+\\cdots+\\beta_kx_{ik})}}{1+e^{\\beta_0+\\beta_1x_{i1}+\\cdots+\\beta_kx_{ik}}}.\n",
    "$$\n",
    "\n",
    "In this case, it is not possible to obtain a closed form expression to find the parameters $\\hat{\\beta}$, thus we have to employ numerical methods to get a good approximation of these values.\n",
    "\n",
    "The concept of confidence intervals for the parameters of the logistic regression model is also valid. If the number of observations is large, the distribution of $\\hat{\\beta}$ is approximately a normal distribution with mean equal to $\\beta$ and covariance matrix given by\n",
    "\n",
    "$$\n",
    "\\text{cov}(\\hat{\\beta})\\approx\\left(\\sum_{i=1}^np(x_i)(1-p(x_i))x_ix_i^T\\right)^{-1}.\n",
    "$$\n",
    "\n",
    "The values of the diagonal of this matrix are the standard deviations of the parameters $\\hat{\\beta}_i$, $i=1,2,\\dots,k$. Then,\n",
    "\n",
    "$$\n",
    "\\hat{\\beta}_i\\pm z_{\\alpha/2}s_{\\hat{\\beta}_i},\n",
    "$$\n",
    "\n",
    "where $z_{\\alpha/2}$ is a value such that $P(Z\\geq z_{\\alpha/2})=\\alpha/2$ ($Z\\sim N(0,1)$), and $s_{\\hat{\\beta}_i}$ is the i-th element of the diagonal of $\\text{cov}(\\hat{\\beta})$.\n",
    "\n",
    "This is a good time for loading some libraries and see logistic regression in action."
   ]
  },
  {
   "cell_type": "code",
   "execution_count": 2,
   "id": "626d6ac5",
   "metadata": {},
   "outputs": [],
   "source": [
    "import statsmodels.formula.api as smf\n",
    "import statsmodels.api         as sm\n",
    "import pandas as pd\n",
    "import numpy as np"
   ]
  },
  {
   "cell_type": "code",
   "execution_count": 3,
   "id": "3a87ce48",
   "metadata": {
    "scrolled": true
   },
   "outputs": [
    {
     "data": {
      "text/html": [
       "<div>\n",
       "<style scoped>\n",
       "    .dataframe tbody tr th:only-of-type {\n",
       "        vertical-align: middle;\n",
       "    }\n",
       "\n",
       "    .dataframe tbody tr th {\n",
       "        vertical-align: top;\n",
       "    }\n",
       "\n",
       "    .dataframe thead th {\n",
       "        text-align: right;\n",
       "    }\n",
       "</style>\n",
       "<table border=\"1\" class=\"dataframe\">\n",
       "  <thead>\n",
       "    <tr style=\"text-align: right;\">\n",
       "      <th></th>\n",
       "      <th>Pregnancies</th>\n",
       "      <th>Glucose</th>\n",
       "      <th>BloodPressure</th>\n",
       "      <th>SkinThickness</th>\n",
       "      <th>Insulin</th>\n",
       "      <th>BMI</th>\n",
       "      <th>DiabetesPedigreeFunction</th>\n",
       "      <th>Age</th>\n",
       "      <th>Outcome</th>\n",
       "    </tr>\n",
       "  </thead>\n",
       "  <tbody>\n",
       "    <tr>\n",
       "      <th>0</th>\n",
       "      <td>2</td>\n",
       "      <td>138</td>\n",
       "      <td>62</td>\n",
       "      <td>35</td>\n",
       "      <td>0</td>\n",
       "      <td>33.6</td>\n",
       "      <td>0.127</td>\n",
       "      <td>47</td>\n",
       "      <td>1</td>\n",
       "    </tr>\n",
       "    <tr>\n",
       "      <th>1</th>\n",
       "      <td>0</td>\n",
       "      <td>84</td>\n",
       "      <td>82</td>\n",
       "      <td>31</td>\n",
       "      <td>125</td>\n",
       "      <td>38.2</td>\n",
       "      <td>0.233</td>\n",
       "      <td>23</td>\n",
       "      <td>0</td>\n",
       "    </tr>\n",
       "    <tr>\n",
       "      <th>2</th>\n",
       "      <td>0</td>\n",
       "      <td>145</td>\n",
       "      <td>0</td>\n",
       "      <td>0</td>\n",
       "      <td>0</td>\n",
       "      <td>44.2</td>\n",
       "      <td>0.630</td>\n",
       "      <td>31</td>\n",
       "      <td>1</td>\n",
       "    </tr>\n",
       "    <tr>\n",
       "      <th>3</th>\n",
       "      <td>0</td>\n",
       "      <td>135</td>\n",
       "      <td>68</td>\n",
       "      <td>42</td>\n",
       "      <td>250</td>\n",
       "      <td>42.3</td>\n",
       "      <td>0.365</td>\n",
       "      <td>24</td>\n",
       "      <td>1</td>\n",
       "    </tr>\n",
       "    <tr>\n",
       "      <th>4</th>\n",
       "      <td>1</td>\n",
       "      <td>139</td>\n",
       "      <td>62</td>\n",
       "      <td>41</td>\n",
       "      <td>480</td>\n",
       "      <td>40.7</td>\n",
       "      <td>0.536</td>\n",
       "      <td>21</td>\n",
       "      <td>0</td>\n",
       "    </tr>\n",
       "  </tbody>\n",
       "</table>\n",
       "</div>"
      ],
      "text/plain": [
       "   Pregnancies  Glucose  BloodPressure  SkinThickness  Insulin   BMI  \\\n",
       "0            2      138             62             35        0  33.6   \n",
       "1            0       84             82             31      125  38.2   \n",
       "2            0      145              0              0        0  44.2   \n",
       "3            0      135             68             42      250  42.3   \n",
       "4            1      139             62             41      480  40.7   \n",
       "\n",
       "   DiabetesPedigreeFunction  Age  Outcome  \n",
       "0                     0.127   47        1  \n",
       "1                     0.233   23        0  \n",
       "2                     0.630   31        1  \n",
       "3                     0.365   24        1  \n",
       "4                     0.536   21        0  "
      ]
     },
     "execution_count": 3,
     "metadata": {},
     "output_type": "execute_result"
    }
   ],
   "source": [
    "diabetes = pd.read_csv('diabetes-dataset.csv')\n",
    "diabetes.head()"
   ]
  },
  {
   "cell_type": "markdown",
   "id": "4439dc1a",
   "metadata": {},
   "source": [
    "## Training and testing sets\n",
    "\n",
    "When we are developing a model we do not use all of our data for training, what we do is that we divide the data we posses into two sets: the training set and the testing set. A general rule of thumb is to use 80% of the data for training and 20% for testing our model. There are variations of this depending on the circumstances, but, in general, this is a good starting point. By the way, all the examples of our training data should be picked randomly to avoid any bias; it is not a good practice to pick these examples in a deterministic fashion."
   ]
  },
  {
   "cell_type": "code",
   "execution_count": 4,
   "id": "da1a464b",
   "metadata": {},
   "outputs": [
    {
     "name": "stdout",
     "output_type": "stream",
     "text": [
      "(1600, 9)\n",
      "(400, 9)\n"
     ]
    }
   ],
   "source": [
    "np.random.seed(1337) \n",
    "number_of_rows = diabetes.shape[0]\n",
    "index_train = np.random.choice(range(number_of_rows), int(0.8 * number_of_rows), replace=False)\n",
    "index_test = np.asarray(list(set(range(number_of_rows)) - set(index_train)))\n",
    "train_set = diabetes.iloc[index_train] \n",
    "test_set = diabetes.iloc[index_test] \n",
    "print(train_set.shape)\n",
    "print(test_set.shape)"
   ]
  },
  {
   "cell_type": "code",
   "execution_count": 5,
   "id": "a5705dc0",
   "metadata": {},
   "outputs": [
    {
     "data": {
      "text/html": [
       "<div>\n",
       "<style scoped>\n",
       "    .dataframe tbody tr th:only-of-type {\n",
       "        vertical-align: middle;\n",
       "    }\n",
       "\n",
       "    .dataframe tbody tr th {\n",
       "        vertical-align: top;\n",
       "    }\n",
       "\n",
       "    .dataframe thead th {\n",
       "        text-align: right;\n",
       "    }\n",
       "</style>\n",
       "<table border=\"1\" class=\"dataframe\">\n",
       "  <thead>\n",
       "    <tr style=\"text-align: right;\">\n",
       "      <th></th>\n",
       "      <th>Pregnancies</th>\n",
       "      <th>Glucose</th>\n",
       "      <th>BloodPressure</th>\n",
       "      <th>SkinThickness</th>\n",
       "      <th>Insulin</th>\n",
       "      <th>BMI</th>\n",
       "      <th>DiabetesPedigreeFunction</th>\n",
       "      <th>Age</th>\n",
       "      <th>Outcome</th>\n",
       "    </tr>\n",
       "  </thead>\n",
       "  <tbody>\n",
       "    <tr>\n",
       "      <th>967</th>\n",
       "      <td>2</td>\n",
       "      <td>81</td>\n",
       "      <td>72</td>\n",
       "      <td>15</td>\n",
       "      <td>76</td>\n",
       "      <td>30.1</td>\n",
       "      <td>0.547</td>\n",
       "      <td>25</td>\n",
       "      <td>0</td>\n",
       "    </tr>\n",
       "    <tr>\n",
       "      <th>628</th>\n",
       "      <td>5</td>\n",
       "      <td>128</td>\n",
       "      <td>80</td>\n",
       "      <td>0</td>\n",
       "      <td>0</td>\n",
       "      <td>34.6</td>\n",
       "      <td>0.144</td>\n",
       "      <td>45</td>\n",
       "      <td>0</td>\n",
       "    </tr>\n",
       "    <tr>\n",
       "      <th>577</th>\n",
       "      <td>2</td>\n",
       "      <td>118</td>\n",
       "      <td>80</td>\n",
       "      <td>0</td>\n",
       "      <td>0</td>\n",
       "      <td>42.9</td>\n",
       "      <td>0.693</td>\n",
       "      <td>21</td>\n",
       "      <td>1</td>\n",
       "    </tr>\n",
       "    <tr>\n",
       "      <th>89</th>\n",
       "      <td>1</td>\n",
       "      <td>107</td>\n",
       "      <td>68</td>\n",
       "      <td>19</td>\n",
       "      <td>0</td>\n",
       "      <td>26.5</td>\n",
       "      <td>0.165</td>\n",
       "      <td>24</td>\n",
       "      <td>0</td>\n",
       "    </tr>\n",
       "    <tr>\n",
       "      <th>1171</th>\n",
       "      <td>3</td>\n",
       "      <td>102</td>\n",
       "      <td>74</td>\n",
       "      <td>0</td>\n",
       "      <td>0</td>\n",
       "      <td>29.5</td>\n",
       "      <td>0.121</td>\n",
       "      <td>32</td>\n",
       "      <td>0</td>\n",
       "    </tr>\n",
       "  </tbody>\n",
       "</table>\n",
       "</div>"
      ],
      "text/plain": [
       "      Pregnancies  Glucose  BloodPressure  SkinThickness  Insulin   BMI  \\\n",
       "967             2       81             72             15       76  30.1   \n",
       "628             5      128             80              0        0  34.6   \n",
       "577             2      118             80              0        0  42.9   \n",
       "89              1      107             68             19        0  26.5   \n",
       "1171            3      102             74              0        0  29.5   \n",
       "\n",
       "      DiabetesPedigreeFunction  Age  Outcome  \n",
       "967                      0.547   25        0  \n",
       "628                      0.144   45        0  \n",
       "577                      0.693   21        1  \n",
       "89                       0.165   24        0  \n",
       "1171                     0.121   32        0  "
      ]
     },
     "execution_count": 5,
     "metadata": {},
     "output_type": "execute_result"
    }
   ],
   "source": [
    "train_set.head()"
   ]
  },
  {
   "cell_type": "markdown",
   "id": "8c79a7af",
   "metadata": {},
   "source": [
    "Now we create the training and testing sets for the $Y$ variable."
   ]
  },
  {
   "cell_type": "code",
   "execution_count": 6,
   "id": "83bb57f2",
   "metadata": {},
   "outputs": [],
   "source": [
    "y_train = train_set['Outcome']\n",
    "train_set = train_set.drop(columns='Outcome')\n",
    "y_test = test_set['Outcome']\n",
    "test_set = test_set.drop(columns='Outcome')"
   ]
  },
  {
   "cell_type": "code",
   "execution_count": 7,
   "id": "4495fb48",
   "metadata": {},
   "outputs": [
    {
     "data": {
      "text/plain": [
       "967     0\n",
       "628     0\n",
       "577     1\n",
       "89      0\n",
       "1171    0\n",
       "       ..\n",
       "4       0\n",
       "1972    0\n",
       "1920    1\n",
       "1947    0\n",
       "647     1\n",
       "Name: Outcome, Length: 1600, dtype: int64"
      ]
     },
     "execution_count": 7,
     "metadata": {},
     "output_type": "execute_result"
    }
   ],
   "source": [
    "y_train"
   ]
  },
  {
   "cell_type": "markdown",
   "id": "e45364bd",
   "metadata": {},
   "source": [
    "## Training the model\n",
    "\n",
    "With the `statsmodel` library is very easy to train the logit model:"
   ]
  },
  {
   "cell_type": "code",
   "execution_count": 8,
   "id": "c28e6170",
   "metadata": {},
   "outputs": [
    {
     "name": "stdout",
     "output_type": "stream",
     "text": [
      "Optimization terminated successfully.\n",
      "         Current function value: 0.604441\n",
      "         Iterations 5\n"
     ]
    },
    {
     "data": {
      "text/html": [
       "<table class=\"simpletable\">\n",
       "<caption>Logit Regression Results</caption>\n",
       "<tr>\n",
       "  <th>Dep. Variable:</th>        <td>Outcome</td>     <th>  No. Observations:  </th>  <td>  1600</td>  \n",
       "</tr>\n",
       "<tr>\n",
       "  <th>Model:</th>                 <td>Logit</td>      <th>  Df Residuals:      </th>  <td>  1592</td>  \n",
       "</tr>\n",
       "<tr>\n",
       "  <th>Method:</th>                 <td>MLE</td>       <th>  Df Model:          </th>  <td>     7</td>  \n",
       "</tr>\n",
       "<tr>\n",
       "  <th>Date:</th>            <td>Mon, 26 Dec 2022</td> <th>  Pseudo R-squ.:     </th>  <td>0.05647</td> \n",
       "</tr>\n",
       "<tr>\n",
       "  <th>Time:</th>                <td>22:22:18</td>     <th>  Log-Likelihood:    </th> <td> -967.11</td> \n",
       "</tr>\n",
       "<tr>\n",
       "  <th>converged:</th>             <td>True</td>       <th>  LL-Null:           </th> <td> -1025.0</td> \n",
       "</tr>\n",
       "<tr>\n",
       "  <th>Covariance Type:</th>     <td>nonrobust</td>    <th>  LLR p-value:       </th> <td>5.808e-22</td>\n",
       "</tr>\n",
       "</table>\n",
       "<table class=\"simpletable\">\n",
       "<tr>\n",
       "              <td></td>                <th>coef</th>     <th>std err</th>      <th>z</th>      <th>P>|z|</th>  <th>[0.025</th>    <th>0.975]</th>  \n",
       "</tr>\n",
       "<tr>\n",
       "  <th>Pregnancies</th>              <td>    0.1352</td> <td>    0.021</td> <td>    6.541</td> <td> 0.000</td> <td>    0.095</td> <td>    0.176</td>\n",
       "</tr>\n",
       "<tr>\n",
       "  <th>Glucose</th>                  <td>    0.0137</td> <td>    0.002</td> <td>    7.312</td> <td> 0.000</td> <td>    0.010</td> <td>    0.017</td>\n",
       "</tr>\n",
       "<tr>\n",
       "  <th>BloodPressure</th>            <td>   -0.0311</td> <td>    0.003</td> <td>   -9.478</td> <td> 0.000</td> <td>   -0.038</td> <td>   -0.025</td>\n",
       "</tr>\n",
       "<tr>\n",
       "  <th>SkinThickness</th>            <td>    0.0037</td> <td>    0.004</td> <td>    0.898</td> <td> 0.369</td> <td>   -0.004</td> <td>    0.012</td>\n",
       "</tr>\n",
       "<tr>\n",
       "  <th>Insulin</th>                  <td> 2.743e-05</td> <td>    0.001</td> <td>    0.049</td> <td> 0.961</td> <td>   -0.001</td> <td>    0.001</td>\n",
       "</tr>\n",
       "<tr>\n",
       "  <th>BMI</th>                      <td>   -0.0076</td> <td>    0.007</td> <td>   -1.067</td> <td> 0.286</td> <td>   -0.022</td> <td>    0.006</td>\n",
       "</tr>\n",
       "<tr>\n",
       "  <th>DiabetesPedigreeFunction</th> <td>    0.0943</td> <td>    0.169</td> <td>    0.560</td> <td> 0.576</td> <td>   -0.236</td> <td>    0.425</td>\n",
       "</tr>\n",
       "<tr>\n",
       "  <th>Age</th>                      <td>   -0.0125</td> <td>    0.006</td> <td>   -2.115</td> <td> 0.034</td> <td>   -0.024</td> <td>   -0.001</td>\n",
       "</tr>\n",
       "</table>"
      ],
      "text/plain": [
       "<class 'statsmodels.iolib.summary.Summary'>\n",
       "\"\"\"\n",
       "                           Logit Regression Results                           \n",
       "==============================================================================\n",
       "Dep. Variable:                Outcome   No. Observations:                 1600\n",
       "Model:                          Logit   Df Residuals:                     1592\n",
       "Method:                           MLE   Df Model:                            7\n",
       "Date:                Mon, 26 Dec 2022   Pseudo R-squ.:                 0.05647\n",
       "Time:                        22:22:18   Log-Likelihood:                -967.11\n",
       "converged:                       True   LL-Null:                       -1025.0\n",
       "Covariance Type:            nonrobust   LLR p-value:                 5.808e-22\n",
       "============================================================================================\n",
       "                               coef    std err          z      P>|z|      [0.025      0.975]\n",
       "--------------------------------------------------------------------------------------------\n",
       "Pregnancies                  0.1352      0.021      6.541      0.000       0.095       0.176\n",
       "Glucose                      0.0137      0.002      7.312      0.000       0.010       0.017\n",
       "BloodPressure               -0.0311      0.003     -9.478      0.000      -0.038      -0.025\n",
       "SkinThickness                0.0037      0.004      0.898      0.369      -0.004       0.012\n",
       "Insulin                   2.743e-05      0.001      0.049      0.961      -0.001       0.001\n",
       "BMI                         -0.0076      0.007     -1.067      0.286      -0.022       0.006\n",
       "DiabetesPedigreeFunction     0.0943      0.169      0.560      0.576      -0.236       0.425\n",
       "Age                         -0.0125      0.006     -2.115      0.034      -0.024      -0.001\n",
       "============================================================================================\n",
       "\"\"\""
      ]
     },
     "execution_count": 8,
     "metadata": {},
     "output_type": "execute_result"
    }
   ],
   "source": [
    "logistic_model = sm.Logit(y_train, train_set).fit()\n",
    "logistic_model.summary()"
   ]
  },
  {
   "cell_type": "markdown",
   "id": "ea61f17c",
   "metadata": {},
   "source": [
    "## Testing the model\n",
    "\n",
    "Once the model is trained, we can use the test set to see how good is our model when tested with data that has not seen. The following code help us make predictions using the test set."
   ]
  },
  {
   "cell_type": "code",
   "execution_count": 9,
   "id": "d45850b6",
   "metadata": {
    "scrolled": true
   },
   "outputs": [
    {
     "data": {
      "text/plain": [
       "5       0.288733\n",
       "7       0.565712\n",
       "10      0.325942\n",
       "23      0.293907\n",
       "31      0.300398\n",
       "          ...   \n",
       "1963    0.434819\n",
       "1966    0.257508\n",
       "1974    0.335764\n",
       "1983    0.189770\n",
       "1995    0.230217\n",
       "Length: 400, dtype: float64"
      ]
     },
     "execution_count": 9,
     "metadata": {},
     "output_type": "execute_result"
    }
   ],
   "source": [
    "y_pred = logistic_model.predict(test_set)\n",
    "y_pred"
   ]
  },
  {
   "cell_type": "markdown",
   "id": "4199f73c",
   "metadata": {},
   "source": [
    "These numbers can be literally understood as the probability that $Y$ is equal to one given the i-th observation $x_i$: $P(Y=1|x_i)$. \n",
    "\n",
    "In case you don't know it, logistic regression is widely used for binary classification. Given a prediction $\\hat{y}_i$ of observation $x_i$, we say that this observation belongs to class **one** if $\\hat{y}_i\\geq0.5$, otherwise, we say it belongs to class **zero**."
   ]
  },
  {
   "cell_type": "code",
   "execution_count": 10,
   "id": "6f4602f6",
   "metadata": {
    "scrolled": false
   },
   "outputs": [
    {
     "data": {
      "text/plain": [
       "5       0.0\n",
       "7       1.0\n",
       "10      0.0\n",
       "23      0.0\n",
       "31      0.0\n",
       "       ... \n",
       "1963    0.0\n",
       "1966    0.0\n",
       "1974    0.0\n",
       "1983    0.0\n",
       "1995    0.0\n",
       "Length: 400, dtype: float64"
      ]
     },
     "execution_count": 10,
     "metadata": {},
     "output_type": "execute_result"
    }
   ],
   "source": [
    "y_pred[y_pred < 0.5] = 0\n",
    "y_pred[y_pred >= 0.5] = 1\n",
    "y_pred"
   ]
  },
  {
   "cell_type": "code",
   "execution_count": 12,
   "id": "c5e8f764",
   "metadata": {},
   "outputs": [
    {
     "data": {
      "text/plain": [
       "5     0\n",
       "7     0\n",
       "10    0\n",
       "23    0\n",
       "31    0\n",
       "49    0\n",
       "60    0\n",
       "61    1\n",
       "64    1\n",
       "66    1\n",
       "Name: Outcome, dtype: int64"
      ]
     },
     "execution_count": 12,
     "metadata": {},
     "output_type": "execute_result"
    }
   ],
   "source": [
    "y_test.head(10)"
   ]
  },
  {
   "cell_type": "markdown",
   "id": "cf585178",
   "metadata": {},
   "source": [
    "For more information go to *Johnson R.A., Wichern D.W., \"Applied Multivariate Statistical Analysis\", Edition 6a, Pearson, 2013*."
   ]
  },
  {
   "cell_type": "code",
   "execution_count": null,
   "id": "1c77ba8d",
   "metadata": {},
   "outputs": [],
   "source": [
    "pickle.dump(model, open('model.pkl', 'wb'))"
   ]
  }
 ],
 "metadata": {
  "hide_input": false,
  "kernelspec": {
   "display_name": "Python 3 (ipykernel)",
   "language": "python",
   "name": "python3"
  },
  "language_info": {
   "codemirror_mode": {
    "name": "ipython",
    "version": 3
   },
   "file_extension": ".py",
   "mimetype": "text/x-python",
   "name": "python",
   "nbconvert_exporter": "python",
   "pygments_lexer": "ipython3",
   "version": "3.11.1"
  }
 },
 "nbformat": 4,
 "nbformat_minor": 5
}
